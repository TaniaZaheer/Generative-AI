{
 "cells": [
  {
   "cell_type": "code",
   "execution_count": 3,
   "id": "4c5c6439",
   "metadata": {},
   "outputs": [
    {
     "name": "stdout",
     "output_type": "stream",
     "text": [
      "Crafted Social Media Content:\n",
      "\n",
      "🚀 Exciting news! 🎉 Sodexo and CoachHub have joined forces to take leadership development in the APMEA region to new heights! 🌏✨\n",
      "\n",
      "🌟 With the implementation of scalable coaching programs powered by AI and analytics, we have seen remarkable results including improved knowledge retention, enhanced leadership skills, and increased employee engagement. 💯\n",
      "\n",
      "🤩 But did you know that 75% of classroom-style training is forgotten if not implemented within 6 days after? 😱 That's why our collaboration with CoachHub is a game-changer! 💪\n",
      "\n",
      "🔥 Don't just take our word for it, Sodexo's Head of FMCG Accounts, Jean Baptiste CALEMARD, has already experienced the benefits of our coaching program. 🙌 Now it's your turn to join thousands of coachees on a journey of growth and transformation. 💫 #ExploreTheGreaterYou\n",
      "\n",
      "👉 Don't miss out on this opportunity to unlock your full potential and become a successful leader in the APMEA region. 🌟 #Sodexo #CoachHub #LeadershipDevelopment #ExploreTheGreaterYou.\n"
     ]
    }
   ],
   "source": [
    "from langchain import PromptTemplate\n",
    "from langchain.llms import OpenAI\n",
    "from langchain.chains import LLMChain\n",
    "\n",
    "social_media_post_template = '''Your task is to create an interesting and attractive social media post based on the following story:\n",
    "Case Study: Successful Collaboration between Sodexo and CoachHub to Accelerate Leadership Development across the APMEA Region\n",
    "Challenge Addressed: {challenge_addressed}\n",
    "Key Results:\n",
    "- {key_results}\n",
    "Impact:\n",
    "- {impact}\n",
    "Call-to-Action:\n",
    "{call_to_action}\n",
    "Hashtags:\n",
    "{hashtags}\n",
    "Tone:\n",
    "{tone}\n",
    "'''\n",
    "\n",
    "input_variables = [\"challenge_addressed\", \"key_results\", \"impact\", \"call_to_action\", \"hashtags\", \"tone\"]\n",
    "\n",
    "openai_instance = OpenAI(openai_api_key=\"\")\n",
    "\n",
    "social_media_prompt = PromptTemplate(input_variables=input_variables, template=social_media_post_template)\n",
    "\n",
    "social_media_chain = LLMChain(llm=openai_instance, prompt=social_media_prompt)\n",
    "\n",
    "user_answers = {\n",
    "    \"challenge_addressed\":\"Need for scalable leadership development programs in diverse geographic regions (APMEA).\",\n",
    "    \"key_results\":\"Implementation of scalable coaching programs powered by AI and analytics, Improved knowledge retention, Enhanced leadership skills, Increased employee engagement across APMEA\",\n",
    "    \"impact\": \"75% of classroom-style training is forgotten if not implemented within 6 days after.\",\n",
    "    \"call_to_action\": \"Join thousands of coachees like Sodexo's Head of FMCG Accounts, Jean Baptiste CALEMARD, on a journey of growth and transformation to explore the greater you\",\n",
    "    \"hashtags\": \"#ExploreTheGreaterYou\",\n",
    "    \"impact\": \"75% of classroom-style training is forgotten if it's not implemented within 6 days after.\",\n",
    "    \"tone\": \"Professional and achievement-oriented.\"\n",
    "}\n",
    "formatted_social_media_post = social_media_prompt.format(**user_answers)\n",
    "\n",
    "generated_social_media_content = social_media_chain.run(user_answers)\n",
    "\n",
    "print(\"Crafted Social Media Content:\")\n",
    "print(generated_social_media_content)\n"
   ]
  },
  {
   "cell_type": "code",
   "execution_count": null,
   "id": "4b338d46",
   "metadata": {},
   "outputs": [],
   "source": []
  },
  {
   "cell_type": "code",
   "execution_count": null,
   "id": "3b85534d",
   "metadata": {},
   "outputs": [],
   "source": []
  }
 ],
 "metadata": {
  "kernelspec": {
   "display_name": "Python 3 (ipykernel)",
   "language": "python",
   "name": "python3"
  },
  "language_info": {
   "codemirror_mode": {
    "name": "ipython",
    "version": 3
   },
   "file_extension": ".py",
   "mimetype": "text/x-python",
   "name": "python",
   "nbconvert_exporter": "python",
   "pygments_lexer": "ipython3",
   "version": "3.9.13"
  }
 },
 "nbformat": 4,
 "nbformat_minor": 5
}
